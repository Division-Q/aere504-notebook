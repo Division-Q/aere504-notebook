{
 "cells": [
  {
   "cell_type": "code",
   "execution_count": 1,
   "metadata": {
    "collapsed": true
   },
   "outputs": [],
   "source": [
    "# Decision Networks"
   ]
  },
  {
   "cell_type": "code",
   "execution_count": 2,
   "metadata": {},
   "outputs": [
    {
     "name": "stderr",
     "output_type": "stream",
     "text": [
      "WARNING: Method definition describe(AbstractArray) in module StatsBase at U:\\.julia\\v0.5\\StatsBase\\src\\scalarstats.jl:560"
     ]
    }
   ],
   "source": [
    "using BayesNets\n",
    "using DataFrames"
   ]
  },
  {
   "cell_type": "code",
   "execution_count": 3,
   "metadata": {},
   "outputs": [
    {
     "name": "stderr",
     "output_type": "stream",
     "text": [
      " overwritten in module DataFrames at U:\\.julia\\v0.5\\DataFrames\\src\\abstractdataframe\\abstractdataframe.jl:407.\n"
     ]
    },
    {
     "data": {
      "image/svg+xml": [
       "<?xml version=\"1.0\" encoding=\"UTF-8\"?>\n",
       "<svg xmlns=\"http://www.w3.org/2000/svg\" xmlns:xlink=\"http://www.w3.org/1999/xlink\" width=\"76.066pt\" height=\"42.011pt\" viewBox=\"0 0 76.066 42.011\" version=\"1.1\">\n",
       "<defs>\n",
       "<g>\n",
       "<symbol overflow=\"visible\" id=\"glyph-1500412726163000-0-0\">\n",
       "<path style=\"stroke:none;\" d=\"\"/>\n",
       "</symbol>\n",
       "<symbol overflow=\"visible\" id=\"glyph-1500412726163000-0-1\">\n",
       "<path style=\"stroke:none;\" d=\"M 7.25 -3.484375 C 7.25 -5.375 5.703125 -7.078125 4 -7.078125 L 0.15625 -7.078125 L 0.15625 -6.5 L 0.59375 -6.5 C 1.359375 -6.5 1.171875 -6.515625 1.171875 -6.15625 L 1.171875 -0.90625 C 1.171875 -0.546875 1.359375 -0.578125 0.59375 -0.578125 L 0.15625 -0.578125 L 0.15625 0 L 4 0 C 5.671875 0 7.25 -1.609375 7.25 -3.484375 Z M 5.859375 -3.484375 C 5.859375 -2.375 5.71875 -1.875 5.359375 -1.390625 C 5.15625 -1.109375 4.734375 -0.578125 3.734375 -0.578125 L 2.71875 -0.578125 C 2.25 -0.578125 2.4375 -0.515625 2.4375 -0.84375 L 2.4375 -6.234375 C 2.4375 -6.5625 2.25 -6.5 2.71875 -6.5 L 3.71875 -6.5 C 4.34375 -6.5 4.890625 -6.3125 5.390625 -5.609375 C 5.828125 -5.03125 5.859375 -4.25 5.859375 -3.484375 Z M 5.859375 -3.484375 \"/>\n",
       "</symbol>\n",
       "<symbol overflow=\"visible\" id=\"glyph-1500412726163000-0-2\">\n",
       "<path style=\"stroke:none;\" d=\"M 7.390625 -3.515625 C 7.390625 -5.546875 5.6875 -7.296875 3.875 -7.296875 C 2.078125 -7.296875 0.359375 -5.5625 0.359375 -3.515625 C 0.359375 -1.46875 2.09375 0.21875 3.875 0.21875 C 5.6875 0.21875 7.390625 -1.5 7.390625 -3.515625 Z M 5.96875 -3.65625 C 5.96875 -1 4.796875 -0.3125 3.875 -0.3125 C 2.921875 -0.3125 1.78125 -1.046875 1.78125 -3.65625 C 1.78125 -6.234375 3.046875 -6.78125 3.875 -6.78125 C 4.734375 -6.78125 5.96875 -6.203125 5.96875 -3.65625 Z M 5.96875 -3.65625 \"/>\n",
       "</symbol>\n",
       "<symbol overflow=\"visible\" id=\"glyph-1500412726163000-0-3\">\n",
       "<path style=\"stroke:none;\" d=\"M 4.75 -1.828125 C 4.75 -2.65625 3.921875 -3.5625 2.890625 -3.78125 L 2.890625 -3.515625 C 3.703125 -3.78125 4.484375 -4.609375 4.484375 -5.390625 C 4.484375 -6.203125 3.40625 -6.90625 2.453125 -6.90625 C 1.453125 -6.90625 0.484375 -6.171875 0.484375 -5.40625 C 0.484375 -5.078125 0.90625 -4.765625 1.203125 -4.765625 C 1.5 -4.765625 1.90625 -5.109375 1.90625 -5.40625 C 1.90625 -5.90625 1.234375 -6.046875 1.359375 -6.046875 C 1.53125 -6.296875 2.046875 -6.390625 2.40625 -6.390625 C 2.828125 -6.390625 3.171875 -6.296875 3.171875 -5.40625 C 3.171875 -5.28125 3.203125 -4.8125 2.953125 -4.359375 C 2.65625 -3.890625 2.453125 -3.890625 2.203125 -3.890625 C 2.125 -3.875 1.890625 -3.859375 1.8125 -3.859375 C 1.734375 -3.84375 1.46875 -3.703125 1.46875 -3.59375 C 1.46875 -3.484375 1.734375 -3.359375 1.90625 -3.359375 L 2.34375 -3.359375 C 3.15625 -3.359375 3.328125 -2.8125 3.328125 -1.828125 C 3.328125 -0.484375 2.84375 -0.328125 2.40625 -0.328125 C 1.96875 -0.328125 1.359375 -0.453125 1.171875 -0.765625 C 1.21875 -0.765625 1.734375 -1.109375 1.734375 -1.5 C 1.734375 -1.859375 1.265625 -2.1875 0.984375 -2.1875 C 0.734375 -2.1875 0.21875 -1.90625 0.21875 -1.46875 C 0.21875 -0.5625 1.34375 0.21875 2.4375 0.21875 C 3.65625 0.21875 4.75 -0.8125 4.75 -1.828125 Z M 4.75 -1.828125 \"/>\n",
       "</symbol>\n",
       "<symbol overflow=\"visible\" id=\"glyph-1500412726163000-0-4\">\n",
       "<path style=\"stroke:none;\" d=\"M 4.375 -0.125 L 4.375 -0.578125 L 3.859375 -0.578125 C 2.953125 -0.578125 3.125 -0.546875 3.125 -0.921875 L 3.125 -6.515625 C 3.125 -6.75 2.9375 -6.90625 2.59375 -6.90625 C 1.9375 -6.234375 1.203125 -6.265625 0.6875 -6.265625 L 0.6875 -5.6875 C 1.09375 -5.6875 1.8125 -5.734375 2 -5.828125 L 2 -0.921875 C 2 -0.5625 2.15625 -0.578125 1.265625 -0.578125 L 0.75 -0.578125 L 0.75 0.015625 C 1.296875 -0.03125 2.15625 -0.03125 2.5625 -0.03125 C 2.953125 -0.03125 3.828125 -0.03125 4.375 0.015625 Z M 4.375 -0.125 \"/>\n",
       "</symbol>\n",
       "<symbol overflow=\"visible\" id=\"glyph-1500412726163000-0-5\">\n",
       "<path style=\"stroke:none;\" d=\"M 4.46875 -2 L 4.046875 -2 C 3.984375 -1.5625 3.96875 -1.21875 3.875 -1.078125 C 3.796875 -1 3.28125 -1.03125 3.0625 -1.03125 L 1.640625 -1.03125 L 2.46875 -1.828125 C 4.015625 -3.203125 4.671875 -3.84375 4.671875 -4.828125 C 4.671875 -5.96875 3.578125 -6.90625 2.359375 -6.90625 C 1.234375 -6.90625 0.296875 -5.859375 0.296875 -4.96875 C 0.296875 -4.40625 1 -4.28125 1.03125 -4.28125 C 1.203125 -4.28125 1.75 -4.53125 1.75 -4.9375 C 1.75 -5.1875 1.359375 -5.59375 1.015625 -5.59375 C 0.9375 -5.59375 0.921875 -5.59375 1.171875 -5.671875 C 1.3125 -6.09375 1.65625 -6.328125 2.234375 -6.328125 C 3.140625 -6.328125 3.375 -5.65625 3.375 -4.828125 C 3.375 -4.03125 2.9375 -3.34375 2.375 -2.734375 L 0.46875 -0.59375 C 0.359375 -0.484375 0.296875 -0.375 0.296875 0 L 4.359375 0 L 4.6875 -2 Z M 4.46875 -2 \"/>\n",
       "</symbol>\n",
       "</g>\n",
       "</defs>\n",
       "<g id=\"surface1\">\n",
       "<path style=\"fill:none;stroke-width:0.3985;stroke-linecap:butt;stroke-linejoin:miter;stroke:rgb(0%,0%,0%);stroke-opacity:1;stroke-miterlimit:10;\" d=\"M -6.923625 -6.921531 L -20.880656 -20.882469 \" transform=\"matrix(1,0,0,-1,38.033,6.723)\"/>\n",
       "<path style=\"fill:none;stroke-width:0.31879;stroke-linecap:round;stroke-linejoin:round;stroke:rgb(0%,0%,0%);stroke-opacity:1;stroke-miterlimit:10;\" d=\"M -1.195883 1.595069 C -1.096448 0.998437 0.000131529 0.10072 0.298446 0.00127954 C 0.000130123 -0.0981569 -1.096462 -0.995858 -1.195905 -1.592489 \" transform=\"matrix(-0.70709,0.7071,0.7071,0.70709,17.15153,27.60447)\"/>\n",
       "<path style=\"fill:none;stroke-width:0.3985;stroke-linecap:butt;stroke-linejoin:miter;stroke:rgb(0%,0%,0%);stroke-opacity:1;stroke-miterlimit:10;\" d=\"M -0.00175 -6.921531 L -0.00175 -20.74575 \" transform=\"matrix(1,0,0,-1,38.033,6.723)\"/>\n",
       "<path style=\"fill:none;stroke-width:0.31879;stroke-linecap:round;stroke-linejoin:round;stroke:rgb(0%,0%,0%);stroke-opacity:1;stroke-miterlimit:10;\" d=\"M -1.196802 1.595906 C -1.09524 0.994344 -0.00149 0.0998125 0.299291 -0.00175 C -0.00149 -0.0994063 -1.09524 -0.997844 -1.196802 -1.5955 \" transform=\"matrix(0,1,1,0,38.033,27.47024)\"/>\n",
       "<path style=\"fill:none;stroke-width:0.3985;stroke-linecap:butt;stroke-linejoin:miter;stroke:rgb(0%,0%,0%);stroke-opacity:1;stroke-miterlimit:10;\" d=\"M 6.924031 -6.921531 L 20.881062 -20.882469 \" transform=\"matrix(1,0,0,-1,38.033,6.723)\"/>\n",
       "<path style=\"fill:none;stroke-width:0.31879;stroke-linecap:round;stroke-linejoin:round;stroke:rgb(0%,0%,0%);stroke-opacity:1;stroke-miterlimit:10;\" d=\"M -1.195618 1.592776 C -1.096175 0.996146 0.000417388 0.0984442 0.298734 -0.000992273 C 0.000418794 -0.100433 -1.096161 -0.99815 -1.195595 -1.594782 \" transform=\"matrix(0.70709,0.7071,0.7071,-0.70709,58.91447,27.60447)\"/>\n",
       "<g style=\"fill:rgb(0%,0%,0%);fill-opacity:1;\">\n",
       "  <use xlink:href=\"#glyph-1500412726163000-0-1\" x=\"34.227\" y=\"10.125\"/>\n",
       "</g>\n",
       "<g style=\"fill:rgb(0%,0%,0%);fill-opacity:1;\">\n",
       "  <use xlink:href=\"#glyph-1500412726163000-0-2\" x=\"3.321\" y=\"38.471\"/>\n",
       "  <use xlink:href=\"#glyph-1500412726163000-0-3\" x=\"11.071934\" y=\"38.471\"/>\n",
       "</g>\n",
       "<g style=\"fill:rgb(0%,0%,0%);fill-opacity:1;\">\n",
       "  <use xlink:href=\"#glyph-1500412726163000-0-2\" x=\"31.667\" y=\"38.471\"/>\n",
       "  <use xlink:href=\"#glyph-1500412726163000-0-4\" x=\"39.417934\" y=\"38.471\"/>\n",
       "</g>\n",
       "<g style=\"fill:rgb(0%,0%,0%);fill-opacity:1;\">\n",
       "  <use xlink:href=\"#glyph-1500412726163000-0-2\" x=\"60.013\" y=\"38.471\"/>\n",
       "  <use xlink:href=\"#glyph-1500412726163000-0-5\" x=\"67.763934\" y=\"38.471\"/>\n",
       "</g>\n",
       "</g>\n",
       "</svg>\n",
       "\n"
      ],
      "text/plain": [
       "BayesNets.BayesNet{BayesNets.CPDs.CPD}({4, 3} directed graph,BayesNets.CPDs.CPD[BayesNets.CPDs.StaticCPD{Distributions.Bernoulli{Float64}}(:D,Symbol[],Distributions.Bernoulli{Float64}(p=0.01)),BayesNets.CPDs.FunctionalCPD{Distributions.Bernoulli}(:O3,Symbol[:D],#3),BayesNets.CPDs.StaticCPD{Distributions.Bernoulli{Float64}}(:O1,Symbol[:D],Distributions.Bernoulli{Float64}(p=0.5)),BayesNets.CPDs.FunctionalCPD{Distributions.Bernoulli}(:O2,Symbol[:D],#1)],Dict(:O1=>3,:D=>1,:O2=>4,:O3=>2))"
      ]
     },
     "execution_count": 3,
     "metadata": {},
     "output_type": "execute_result"
    }
   ],
   "source": [
    "b = BayesNet()\n",
    "push!(b, StaticCPD(:D, Bernoulli(0.01)))\n",
    "push!(b, StaticCPD(:O1, [:D], Bernoulli(0.5))) # no real signal of whether disease is present\n",
    "push!(b, FunctionalCPD{Bernoulli}(:O2, [:D], a->Bernoulli(a[:D] == true ? 0.9 : 0.01)))\n",
    "push!(b, FunctionalCPD{Bernoulli}(:O3, [:D], a->Bernoulli(a[:D] == true ? 0.6 : 0.3)))"
   ]
  },
  {
   "cell_type": "code",
   "execution_count": 4,
   "metadata": {},
   "outputs": [
    {
     "data": {
      "text/html": [
       "<table class=\"data-frame\"><thead><tr><th></th><th>T</th><th>D</th><th>U</th></tr></thead><tbody><tr><th>1</th><td>false</td><td>false</td><td>0</td></tr><tr><th>2</th><td>false</td><td>true</td><td>-10</td></tr><tr><th>3</th><td>true</td><td>false</td><td>-1</td></tr><tr><th>4</th><td>true</td><td>true</td><td>-1</td></tr></tbody></table>"
      ],
      "text/plain": [
       "4×3 DataFrames.DataFrame\n",
       "│ Row │ T     │ D     │ U   │\n",
       "├─────┼───────┼───────┼─────┤\n",
       "│ 1   │ false │ false │ 0   │\n",
       "│ 2   │ false │ true  │ -10 │\n",
       "│ 3   │ true  │ false │ -1  │\n",
       "│ 4   │ true  │ true  │ -1  │"
      ]
     },
     "execution_count": 4,
     "metadata": {},
     "output_type": "execute_result"
    }
   ],
   "source": [
    "U = DataFrame()\n",
    "U[:T] = [false, false, true, true]\n",
    "U[:D] = [false, true, false, true]\n",
    "U[:U] = [0, -10, -1, -1]\n",
    "U"
   ]
  },
  {
   "cell_type": "code",
   "execution_count": 5,
   "metadata": {
    "collapsed": true
   },
   "outputs": [],
   "source": [
    "function BayesNets.estimate(b::BayesNet, target::NodeName, consistent_with::Assignment; nsamples = 10000)\n",
    "    srand(0)\n",
    "    t = estimate(rand_table_weighted(b, nsamples=nsamples, consistent_with=consistent_with))\n",
    "    normalize(sumout(t, setdiff(names(b), [target])))\n",
    "end;"
   ]
  },
  {
   "cell_type": "code",
   "execution_count": 6,
   "metadata": {},
   "outputs": [
    {
     "data": {
      "text/html": [
       "<table class=\"data-frame\"><thead><tr><th></th><th>D</th><th>p</th></tr></thead><tbody><tr><th>1</th><td>0</td><td>0.9899000000000001</td></tr><tr><th>2</th><td>1</td><td>0.01009999999999984</td></tr></tbody></table>"
      ],
      "text/plain": [
       "2×2 DataFrames.DataFrame\n",
       "│ Row │ D │ p      │\n",
       "├─────┼───┼────────┤\n",
       "│ 1   │ 0 │ 0.9899 │\n",
       "│ 2   │ 1 │ 0.0101 │"
      ]
     },
     "execution_count": 6,
     "metadata": {},
     "output_type": "execute_result"
    }
   ],
   "source": [
    "D = estimate(b, :D, Assignment(:O1=>true))"
   ]
  },
  {
   "cell_type": "code",
   "execution_count": 7,
   "metadata": {},
   "outputs": [
    {
     "data": {
      "text/html": [
       "<table class=\"data-frame\"><thead><tr><th></th><th>T</th><th>D</th><th>U</th><th>p</th></tr></thead><tbody><tr><th>1</th><td>false</td><td>false</td><td>0</td><td>0.9899000000000001</td></tr><tr><th>2</th><td>true</td><td>false</td><td>-1</td><td>0.9899000000000001</td></tr><tr><th>3</th><td>false</td><td>true</td><td>-10</td><td>0.01009999999999984</td></tr><tr><th>4</th><td>true</td><td>true</td><td>-1</td><td>0.01009999999999984</td></tr></tbody></table>"
      ],
      "text/plain": [
       "4×4 DataFrames.DataFrame\n",
       "│ Row │ T     │ D     │ U   │ p      │\n",
       "├─────┼───────┼───────┼─────┼────────┤\n",
       "│ 1   │ false │ false │ 0   │ 0.9899 │\n",
       "│ 2   │ true  │ false │ -1  │ 0.9899 │\n",
       "│ 3   │ false │ true  │ -10 │ 0.0101 │\n",
       "│ 4   │ true  │ true  │ -1  │ 0.0101 │"
      ]
     },
     "execution_count": 7,
     "metadata": {},
     "output_type": "execute_result"
    }
   ],
   "source": [
    "EU = join(U, D, on = :D)"
   ]
  },
  {
   "cell_type": "code",
   "execution_count": 8,
   "metadata": {},
   "outputs": [
    {
     "data": {
      "text/html": [
       "<table class=\"data-frame\"><thead><tr><th></th><th>T</th><th>x1</th></tr></thead><tbody><tr><th>1</th><td>false</td><td>-0.1009999999999984</td></tr><tr><th>2</th><td>true</td><td>-1.0</td></tr></tbody></table>"
      ],
      "text/plain": [
       "2×2 DataFrames.DataFrame\n",
       "│ Row │ T     │ x1     │\n",
       "├─────┼───────┼────────┤\n",
       "│ 1   │ false │ -0.101 │\n",
       "│ 2   │ true  │ -1.0   │"
      ]
     },
     "execution_count": 8,
     "metadata": {},
     "output_type": "execute_result"
    }
   ],
   "source": [
    "by(EU, :T, df->dot(df[:U], df[:p]))"
   ]
  },
  {
   "cell_type": "code",
   "execution_count": 9,
   "metadata": {
    "collapsed": true
   },
   "outputs": [],
   "source": [
    "function diseaseEU(b::BayesNet, a::Assignment, U::DataFrame)\n",
    "    D = estimate(b, :D, a)\n",
    "    EU = join(U, D, on = :D)\n",
    "    t = by(EU, :T, df->dot(df[:U], df[:p]))\n",
    "    rename!(t, :x1, :EU)\n",
    "    t\n",
    "end;"
   ]
  },
  {
   "cell_type": "code",
   "execution_count": 10,
   "metadata": {},
   "outputs": [
    {
     "data": {
      "text/html": [
       "<table class=\"data-frame\"><thead><tr><th></th><th>T</th><th>EU</th></tr></thead><tbody><tr><th>1</th><td>false</td><td>-0.1009999999999984</td></tr><tr><th>2</th><td>true</td><td>-1.0</td></tr></tbody></table>"
      ],
      "text/plain": [
       "2×2 DataFrames.DataFrame\n",
       "│ Row │ T     │ EU     │\n",
       "├─────┼───────┼────────┤\n",
       "│ 1   │ false │ -0.101 │\n",
       "│ 2   │ true  │ -1.0   │"
      ]
     },
     "execution_count": 10,
     "metadata": {},
     "output_type": "execute_result"
    }
   ],
   "source": [
    "diseaseEU(b, Assignment(:O1=>true), U)"
   ]
  },
  {
   "cell_type": "code",
   "execution_count": 11,
   "metadata": {},
   "outputs": [
    {
     "data": {
      "text/html": [
       "<table class=\"data-frame\"><thead><tr><th></th><th>T</th><th>EU</th></tr></thead><tbody><tr><th>1</th><td>false</td><td>-0.1009999999999984</td></tr><tr><th>2</th><td>true</td><td>-1.0</td></tr></tbody></table>"
      ],
      "text/plain": [
       "2×2 DataFrames.DataFrame\n",
       "│ Row │ T     │ EU     │\n",
       "├─────┼───────┼────────┤\n",
       "│ 1   │ false │ -0.101 │\n",
       "│ 2   │ true  │ -1.0   │"
      ]
     },
     "execution_count": 11,
     "metadata": {},
     "output_type": "execute_result"
    }
   ],
   "source": [
    "diseaseEU(b, Assignment(:O1=>false), U)"
   ]
  },
  {
   "cell_type": "code",
   "execution_count": 12,
   "metadata": {},
   "outputs": [
    {
     "data": {
      "text/html": [
       "<table class=\"data-frame\"><thead><tr><th></th><th>T</th><th>EU</th></tr></thead><tbody><tr><th>1</th><td>false</td><td>-4.78698193691087</td></tr><tr><th>2</th><td>true</td><td>-1.0</td></tr></tbody></table>"
      ],
      "text/plain": [
       "2×2 DataFrames.DataFrame\n",
       "│ Row │ T     │ EU       │\n",
       "├─────┼───────┼──────────┤\n",
       "│ 1   │ false │ -4.78698 │\n",
       "│ 2   │ true  │ -1.0     │"
      ]
     },
     "execution_count": 12,
     "metadata": {},
     "output_type": "execute_result"
    }
   ],
   "source": [
    "diseaseEU(b, Assignment(:O2=>true), U)"
   ]
  },
  {
   "cell_type": "code",
   "execution_count": 13,
   "metadata": {},
   "outputs": [
    {
     "data": {
      "text/html": [
       "<table class=\"data-frame\"><thead><tr><th></th><th>T</th><th>EU</th></tr></thead><tbody><tr><th>1</th><td>false</td><td>-0.19998019998019795</td></tr><tr><th>2</th><td>true</td><td>-1.0</td></tr></tbody></table>"
      ],
      "text/plain": [
       "2×2 DataFrames.DataFrame\n",
       "│ Row │ T     │ EU       │\n",
       "├─────┼───────┼──────────┤\n",
       "│ 1   │ false │ -0.19998 │\n",
       "│ 2   │ true  │ -1.0     │"
      ]
     },
     "execution_count": 13,
     "metadata": {},
     "output_type": "execute_result"
    }
   ],
   "source": [
    "t = diseaseEU(b, Assignment(:O3=>true), U)"
   ]
  }
 ],
 "metadata": {
  "kernelspec": {
   "display_name": "Julia 0.5.2",
   "language": "julia",
   "name": "julia-0.5"
  },
  "language_info": {
   "file_extension": ".jl",
   "mimetype": "application/julia",
   "name": "julia",
   "version": "0.5.2"
  }
 },
 "nbformat": 4,
 "nbformat_minor": 2
}
