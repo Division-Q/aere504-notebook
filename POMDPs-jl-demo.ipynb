{
 "cells": [
  {
   "cell_type": "code",
   "execution_count": 1,
   "metadata": {
    "collapsed": false
   },
   "outputs": [
    {
     "name": "stderr",
     "output_type": "stream",
     "text": [
      "INFO: Nothing to be done\n",
      "INFO: METADATA is out-of-date — you may not have the latest version of POMDPs\n",
      "INFO: Use `Pkg.update()` to get the latest versions of your packages\n"
     ]
    }
   ],
   "source": [
    "Pkg.add(\"POMDPs\")\n",
    "using POMDPs"
   ]
  },
  {
   "cell_type": "code",
   "execution_count": 2,
   "metadata": {
    "collapsed": false,
    "scrolled": true
   },
   "outputs": [
    {
     "name": "stdout",
     "output_type": "stream",
     "text": [
      "Package already installed\n"
     ]
    },
    {
     "name": "stderr",
     "output_type": "stream",
     "text": [
      "INFO: Cloning POMDPToolbox from https://github.com/JuliaPOMDP/POMDPToolbox.jl\n"
     ]
    },
    {
     "data": {
      "text/plain": [
       "POMDPToolbox.DiscreteBelief"
      ]
     },
     "execution_count": 2,
     "metadata": {},
     "output_type": "execute_result"
    }
   ],
   "source": [
    "POMDPs.add(\"POMDPToolbox\")\n",
    "using POMDPToolbox # for DiscreteBelief, HistoryRecorder, etc\n",
    "typealias Categorical DiscreteBelief # just a vector of probabilities"
   ]
  },
  {
   "cell_type": "code",
   "execution_count": 3,
   "metadata": {
    "collapsed": false
   },
   "outputs": [],
   "source": [
    "importall POMDPs\n",
    "include(\"helpers.jl\");"
   ]
  },
  {
   "cell_type": "code",
   "execution_count": 4,
   "metadata": {
    "collapsed": false,
    "scrolled": true
   },
   "outputs": [
    {
     "data": {
      "image/svg+xml": [
       "<?xml version=\"1.0\" encoding=\"UTF-8\"?>\n",
       "<svg xmlns=\"http://www.w3.org/2000/svg\" xmlns:xlink=\"http://www.w3.org/1999/xlink\" width=\"102.853pt\" height=\"17.814pt\" viewBox=\"0 0 102.853 17.814\" version=\"1.1\">\n",
       "<defs>\n",
       "<g>\n",
       "<symbol overflow=\"visible\" id=\"glyph-1478502134183571-0-0\">\n",
       "<path style=\"stroke:none;\" d=\"\"/>\n",
       "</symbol>\n",
       "<symbol overflow=\"visible\" id=\"glyph-1478502134183571-0-1\">\n",
       "<path style=\"stroke:none;\" d=\"M 2.9375 -6.375 C 2.9375 -6.625 2.9375 -6.640625 2.703125 -6.640625 C 2.078125 -6 1.203125 -6 0.890625 -6 L 0.890625 -5.6875 C 1.09375 -5.6875 1.671875 -5.6875 2.1875 -5.953125 L 2.1875 -0.78125 C 2.1875 -0.421875 2.15625 -0.3125 1.265625 -0.3125 L 0.953125 -0.3125 L 0.953125 0 C 1.296875 -0.03125 2.15625 -0.03125 2.5625 -0.03125 C 2.953125 -0.03125 3.828125 -0.03125 4.171875 0 L 4.171875 -0.3125 L 3.859375 -0.3125 C 2.953125 -0.3125 2.9375 -0.421875 2.9375 -0.78125 Z M 2.9375 -6.375 \"/>\n",
       "</symbol>\n",
       "<symbol overflow=\"visible\" id=\"glyph-1478502134183571-0-2\">\n",
       "<path style=\"stroke:none;\" d=\"M 1.265625 -0.765625 L 2.328125 -1.796875 C 3.875 -3.171875 4.46875 -3.703125 4.46875 -4.703125 C 4.46875 -5.84375 3.578125 -6.640625 2.359375 -6.640625 C 1.234375 -6.640625 0.5 -5.71875 0.5 -4.828125 C 0.5 -4.28125 1 -4.28125 1.03125 -4.28125 C 1.203125 -4.28125 1.546875 -4.390625 1.546875 -4.8125 C 1.546875 -5.0625 1.359375 -5.328125 1.015625 -5.328125 C 0.9375 -5.328125 0.921875 -5.328125 0.890625 -5.3125 C 1.109375 -5.96875 1.65625 -6.328125 2.234375 -6.328125 C 3.140625 -6.328125 3.5625 -5.515625 3.5625 -4.703125 C 3.5625 -3.90625 3.078125 -3.125 2.515625 -2.5 L 0.609375 -0.375 C 0.5 -0.265625 0.5 -0.234375 0.5 0 L 4.203125 0 L 4.46875 -1.734375 L 4.234375 -1.734375 C 4.171875 -1.4375 4.109375 -1 4 -0.84375 C 3.9375 -0.765625 3.28125 -0.765625 3.0625 -0.765625 Z M 1.265625 -0.765625 \"/>\n",
       "</symbol>\n",
       "<symbol overflow=\"visible\" id=\"glyph-1478502134183571-0-3\">\n",
       "<path style=\"stroke:none;\" d=\"M 2.890625 -3.515625 C 3.703125 -3.78125 4.28125 -4.46875 4.28125 -5.265625 C 4.28125 -6.078125 3.40625 -6.640625 2.453125 -6.640625 C 1.453125 -6.640625 0.6875 -6.046875 0.6875 -5.28125 C 0.6875 -4.953125 0.90625 -4.765625 1.203125 -4.765625 C 1.5 -4.765625 1.703125 -4.984375 1.703125 -5.28125 C 1.703125 -5.765625 1.234375 -5.765625 1.09375 -5.765625 C 1.390625 -6.265625 2.046875 -6.390625 2.40625 -6.390625 C 2.828125 -6.390625 3.375 -6.171875 3.375 -5.28125 C 3.375 -5.15625 3.34375 -4.578125 3.09375 -4.140625 C 2.796875 -3.65625 2.453125 -3.625 2.203125 -3.625 C 2.125 -3.609375 1.890625 -3.59375 1.8125 -3.59375 C 1.734375 -3.578125 1.671875 -3.5625 1.671875 -3.46875 C 1.671875 -3.359375 1.734375 -3.359375 1.90625 -3.359375 L 2.34375 -3.359375 C 3.15625 -3.359375 3.53125 -2.6875 3.53125 -1.703125 C 3.53125 -0.34375 2.84375 -0.0625 2.40625 -0.0625 C 1.96875 -0.0625 1.21875 -0.234375 0.875 -0.8125 C 1.21875 -0.765625 1.53125 -0.984375 1.53125 -1.359375 C 1.53125 -1.71875 1.265625 -1.921875 0.984375 -1.921875 C 0.734375 -1.921875 0.421875 -1.78125 0.421875 -1.34375 C 0.421875 -0.4375 1.34375 0.21875 2.4375 0.21875 C 3.65625 0.21875 4.5625 -0.6875 4.5625 -1.703125 C 4.5625 -2.515625 3.921875 -3.296875 2.890625 -3.515625 Z M 2.890625 -3.515625 \"/>\n",
       "</symbol>\n",
       "<symbol overflow=\"visible\" id=\"glyph-1478502134183571-0-4\">\n",
       "<path style=\"stroke:none;\" d=\"M 2.9375 -1.640625 L 2.9375 -0.78125 C 2.9375 -0.421875 2.90625 -0.3125 2.171875 -0.3125 L 1.96875 -0.3125 L 1.96875 0 C 2.375 -0.03125 2.890625 -0.03125 3.3125 -0.03125 C 3.734375 -0.03125 4.25 -0.03125 4.671875 0 L 4.671875 -0.3125 L 4.453125 -0.3125 C 3.71875 -0.3125 3.703125 -0.421875 3.703125 -0.78125 L 3.703125 -1.640625 L 4.6875 -1.640625 L 4.6875 -1.953125 L 3.703125 -1.953125 L 3.703125 -6.484375 C 3.703125 -6.6875 3.703125 -6.75 3.53125 -6.75 C 3.453125 -6.75 3.421875 -6.75 3.34375 -6.625 L 0.28125 -1.953125 L 0.28125 -1.640625 Z M 2.984375 -1.953125 L 0.5625 -1.953125 L 2.984375 -5.671875 Z M 2.984375 -1.953125 \"/>\n",
       "</symbol>\n",
       "</g>\n",
       "</defs>\n",
       "<g id=\"surface1\">\n",
       "<path style=\"fill:none;stroke-width:0.3985;stroke-linecap:butt;stroke-linejoin:miter;stroke:rgb(0%,0%,0%);stroke-opacity:1;stroke-miterlimit:10;\" d=\"M 28.34625 0.00075 L 113.389219 0.00075 \" transform=\"matrix(1,0,0,-1,-19.44,8.907)\"/>\n",
       "<path style=\"fill-rule:nonzero;fill:rgb(100%,100%,100%);fill-opacity:1;stroke-width:0.3985;stroke-linecap:butt;stroke-linejoin:miter;stroke:rgb(0%,0%,0%);stroke-opacity:1;stroke-miterlimit:10;\" d=\"M 37.053281 0.00075 C 37.053281 4.809344 33.154844 8.707781 28.34625 8.707781 C 23.537656 8.707781 19.639219 4.809344 19.639219 0.00075 C 19.639219 -4.807844 23.537656 -8.706281 28.34625 -8.706281 C 33.154844 -8.706281 37.053281 -4.807844 37.053281 0.00075 Z M 37.053281 0.00075 \" transform=\"matrix(1,0,0,-1,-19.44,8.907)\"/>\n",
       "<g style=\"fill:rgb(0%,0%,0%);fill-opacity:1;\">\n",
       "  <use xlink:href=\"#glyph-1478502134183571-0-1\" x=\"6.416\" y=\"12.117\"/>\n",
       "</g>\n",
       "<path style=\"fill-rule:nonzero;fill:rgb(100%,100%,100%);fill-opacity:1;stroke-width:0.3985;stroke-linecap:butt;stroke-linejoin:miter;stroke:rgb(0%,0%,0%);stroke-opacity:1;stroke-miterlimit:10;\" d=\"M 65.400937 0.00075 C 65.400937 4.809344 61.5025 8.707781 56.693906 8.707781 C 51.885312 8.707781 47.986875 4.809344 47.986875 0.00075 C 47.986875 -4.807844 51.885312 -8.706281 56.693906 -8.706281 C 61.5025 -8.706281 65.400937 -4.807844 65.400937 0.00075 Z M 65.400937 0.00075 \" transform=\"matrix(1,0,0,-1,-19.44,8.907)\"/>\n",
       "<g style=\"fill:rgb(0%,0%,0%);fill-opacity:1;\">\n",
       "  <use xlink:href=\"#glyph-1478502134183571-0-2\" x=\"34.763\" y=\"12.117\"/>\n",
       "</g>\n",
       "<path style=\"fill-rule:nonzero;fill:rgb(100%,100%,100%);fill-opacity:1;stroke-width:0.3985;stroke-linecap:butt;stroke-linejoin:miter;stroke:rgb(0%,0%,0%);stroke-opacity:1;stroke-miterlimit:10;\" d=\"M 93.748594 0.00075 C 93.748594 4.809344 89.850156 8.707781 85.041562 8.707781 C 80.232969 8.707781 76.334531 4.809344 76.334531 0.00075 C 76.334531 -4.807844 80.232969 -8.706281 85.041562 -8.706281 C 89.850156 -8.706281 93.748594 -4.807844 93.748594 0.00075 Z M 93.748594 0.00075 \" transform=\"matrix(1,0,0,-1,-19.44,8.907)\"/>\n",
       "<g style=\"fill:rgb(0%,0%,0%);fill-opacity:1;\">\n",
       "  <use xlink:href=\"#glyph-1478502134183571-0-3\" x=\"63.109\" y=\"12.117\"/>\n",
       "</g>\n",
       "<path style=\"fill-rule:nonzero;fill:rgb(0%,100%,0%);fill-opacity:1;stroke-width:0.3985;stroke-linecap:butt;stroke-linejoin:miter;stroke:rgb(0%,0%,0%);stroke-opacity:1;stroke-miterlimit:10;\" d=\"M 122.09625 0.00075 C 122.09625 4.809344 118.197812 8.707781 113.389219 8.707781 C 108.576719 8.707781 104.678281 4.809344 104.678281 0.00075 C 104.678281 -4.807844 108.576719 -8.706281 113.389219 -8.706281 C 118.197812 -8.706281 122.09625 -4.807844 122.09625 0.00075 Z M 122.09625 0.00075 \" transform=\"matrix(1,0,0,-1,-19.44,8.907)\"/>\n",
       "<g style=\"fill:rgb(0%,0%,0%);fill-opacity:1;\">\n",
       "  <use xlink:href=\"#glyph-1478502134183571-0-4\" x=\"91.456\" y=\"12.117\"/>\n",
       "</g>\n",
       "</g>\n",
       "</svg>\n",
       "\n"
      ],
      "text/plain": [
       "TikzPictures.TikzPicture(\"\\\\draw (1cm, 0cm) node[draw=black,circle,fill=white]{1} -- (2cm, 0cm) node[draw=black,circle,fill=white]{2} -- (3cm, 0cm) node[draw=black,circle,fill=white]{3} -- (4cm, 0cm) node[draw=black,circle,fill=green]{4};\",\"\",\"\",true,true)"
      ]
     },
     "execution_count": 4,
     "metadata": {},
     "output_type": "execute_result"
    }
   ],
   "source": [
    "plot_chain(4, fill=Dict(4=>\"green\"))"
   ]
  },
  {
   "cell_type": "code",
   "execution_count": 5,
   "metadata": {
    "collapsed": false
   },
   "outputs": [
    {
     "data": {
      "text/plain": [
       "discount (generic function with 2 methods)"
      ]
     },
     "execution_count": 5,
     "metadata": {},
     "output_type": "execute_result"
    }
   ],
   "source": [
    "type ChainMDP <: MDP{Int, Bool} # left is false, right is true\n",
    "    len::Int\n",
    "    p_success::Float64\n",
    "    discount::Float64\n",
    "end\n",
    "discount(mdp::ChainMDP) = mdp.discount"
   ]
  },
  {
   "cell_type": "code",
   "execution_count": 6,
   "metadata": {
    "collapsed": false
   },
   "outputs": [
    {
     "data": {
      "text/plain": [
       "create_transition_distribution (generic function with 2 methods)"
      ]
     },
     "execution_count": 6,
     "metadata": {},
     "output_type": "execute_result"
    }
   ],
   "source": [
    "create_transition_distribution(mdp::ChainMDP) = Categorical(mdp.len)"
   ]
  },
  {
   "cell_type": "code",
   "execution_count": 7,
   "metadata": {
    "collapsed": false
   },
   "outputs": [
    {
     "data": {
      "text/plain": [
       "transition (generic function with 4 methods)"
      ]
     },
     "execution_count": 7,
     "metadata": {},
     "output_type": "execute_result"
    }
   ],
   "source": [
    "# the transition function returns the distribution of sp given that action a is taken in state s\n",
    "function transition(mdp::ChainMDP, s::Int, a::Bool, d::Categorical=create_transition_distribution(mdp))\n",
    "    fill!(d, 0.0)\n",
    "    if a == true\n",
    "        success = min(s+1, mdp.len)\n",
    "        failure = max(s-1, 1)\n",
    "    else # false\n",
    "        success = max(s-1, 1)\n",
    "        failure = min(s+1, mdp.len)\n",
    "    end\n",
    "    d[success] = mdp.p_success\n",
    "    d[failure] = 1.0 - mdp.p_success\n",
    "    return d\n",
    "end"
   ]
  },
  {
   "cell_type": "code",
   "execution_count": 8,
   "metadata": {
    "collapsed": false
   },
   "outputs": [
    {
     "data": {
      "text/plain": [
       "reward (generic function with 3 methods)"
      ]
     },
     "execution_count": 8,
     "metadata": {},
     "output_type": "execute_result"
    }
   ],
   "source": [
    "function reward(mdp::ChainMDP, s::Int, a::Bool)\n",
    "    if s == mdp.len\n",
    "        return 1.0\n",
    "    else\n",
    "        return 0.0\n",
    "    end \n",
    "end"
   ]
  },
  {
   "cell_type": "code",
   "execution_count": null,
   "metadata": {
    "collapsed": true
   },
   "outputs": [],
   "source": []
  },
  {
   "cell_type": "code",
   "execution_count": 9,
   "metadata": {
    "collapsed": false
   },
   "outputs": [
    {
     "data": {
      "text/plain": [
       "ChainMDP(4,0.7,0.9)"
      ]
     },
     "execution_count": 9,
     "metadata": {},
     "output_type": "execute_result"
    }
   ],
   "source": [
    "mdp = ChainMDP(4, 0.7, 0.9)"
   ]
  },
  {
   "cell_type": "code",
   "execution_count": 10,
   "metadata": {
    "collapsed": false
   },
   "outputs": [
    {
     "data": {
      "text/plain": [
       "POMDPToolbox.DiscreteBelief([0.3,0.7,0.0,0.0])"
      ]
     },
     "execution_count": 10,
     "metadata": {},
     "output_type": "execute_result"
    }
   ],
   "source": [
    "transition(mdp, 1, true)"
   ]
  },
  {
   "cell_type": "code",
   "execution_count": 11,
   "metadata": {
    "collapsed": false
   },
   "outputs": [
    {
     "data": {
      "text/plain": [
       "0.0"
      ]
     },
     "execution_count": 11,
     "metadata": {},
     "output_type": "execute_result"
    }
   ],
   "source": [
    "reward(mdp, 1, true)"
   ]
  },
  {
   "cell_type": "code",
   "execution_count": 12,
   "metadata": {
    "collapsed": false
   },
   "outputs": [
    {
     "data": {
      "text/plain": [
       "0.0"
      ]
     },
     "execution_count": 12,
     "metadata": {},
     "output_type": "execute_result"
    }
   ],
   "source": [
    "reward(mdp, 1, true)"
   ]
  },
  {
   "cell_type": "code",
   "execution_count": null,
   "metadata": {
    "collapsed": true
   },
   "outputs": [],
   "source": []
  },
  {
   "cell_type": "code",
   "execution_count": null,
   "metadata": {
    "collapsed": true
   },
   "outputs": [],
   "source": []
  },
  {
   "cell_type": "code",
   "execution_count": 13,
   "metadata": {
    "collapsed": false
   },
   "outputs": [],
   "source": [
    "rec = HistoryRecorder(max_steps=100);"
   ]
  },
  {
   "cell_type": "code",
   "execution_count": 14,
   "metadata": {
    "collapsed": false
   },
   "outputs": [
    {
     "data": {
      "text/plain": [
       "POMDPToolbox.VectorPolicy{Int64,Bool}(ChainMDP(4,0.7,0.9),Bool[true,true,true,true])"
      ]
     },
     "execution_count": 14,
     "metadata": {},
     "output_type": "execute_result"
    }
   ],
   "source": [
    "policy = VectorPolicy(mdp, fill(true, 4))"
   ]
  },
  {
   "cell_type": "code",
   "execution_count": 15,
   "metadata": {
    "collapsed": false,
    "scrolled": true
   },
   "outputs": [
    {
     "data": {
      "text/plain": [
       "4.179321087220355"
      ]
     },
     "execution_count": 15,
     "metadata": {},
     "output_type": "execute_result"
    }
   ],
   "source": [
    "simulate(rec, mdp, policy, 1)"
   ]
  },
  {
   "cell_type": "code",
   "execution_count": null,
   "metadata": {
    "collapsed": true
   },
   "outputs": [],
   "source": []
  },
  {
   "cell_type": "code",
   "execution_count": 17,
   "metadata": {
    "collapsed": false
   },
   "outputs": [],
   "source": [
    "using MCTS\n",
    "solver = MCTSSolver(enable_tree_vis=true)\n",
    "mcts_pol = solve(solver, mdp);"
   ]
  },
  {
   "cell_type": "code",
   "execution_count": 18,
   "metadata": {
    "collapsed": false
   },
   "outputs": [
    {
     "data": {
      "text/plain": [
       "3.659319043454023"
      ]
     },
     "execution_count": 18,
     "metadata": {},
     "output_type": "execute_result"
    }
   ],
   "source": [
    "simulate(rec, mdp, mcts_pol, 1)"
   ]
  },
  {
   "cell_type": "code",
   "execution_count": 19,
   "metadata": {
    "collapsed": false
   },
   "outputs": [
    {
     "data": {
      "text/html": [
       "    <div id=\"treevisLKXhazll\">\n",
       "    <style>\n",
       "        \n",
       ".node {\n",
       "    cursor: pointer;\n",
       "}\n",
       "\n",
       ".node circle {\n",
       "\t  fill: #fff;\n",
       "\t  stroke: steelblue;\n",
       "\t  stroke-width: 3px;\n",
       "}\n",
       "\n",
       ".node path {\n",
       "    fill: #ffffff;\n",
       "    /* stroke: steelblue; */\n",
       "    stroke-width: 2px;\n",
       "}\n",
       ".node text {\n",
       "    font-family: Arial, Helvetica, sans-serif;\n",
       "    font-style: normal;\n",
       "    font-size: 12px;\n",
       "}\n",
       ".link /* path */ {\n",
       "    fill: none;\n",
       "    stroke: #cccccc;\n",
       "    stroke-width: 2px;\n",
       "}\n",
       ".link text {\n",
       "    font-family: Arial, Helvetica, sans-serif;\n",
       "    font-style: normal;\n",
       "    font-size: 12px;\n",
       "}\n",
       ".hover text{\n",
       "    font-family: Arial, Helvetica, sans-serif;\n",
       "    font-style: normal;\n",
       "    font-size: 12px;\n",
       "}\n",
       "\n",
       "    </style>\n",
       "    <script>\n",
       "       (function(){\n",
       "        var treeData = {\"2\":{\"Q\":3.05434834945038,\"tag\":\"true\",\"children_ids\":[1,7],\"N\":58548,\"id\":2,\"tt_tag\":\"true\",\"type\":\"action\"},\"11\":{\"Q\":0.7055470575259455,\"tag\":\"true\",\"children_ids\":[4,10],\"N\":4683,\"id\":11,\"tt_tag\":\"true\",\"type\":\"action\"},\"7\":{\"tag\":\"3\",\"children_ids\":[8,9],\"N\":25586,\"id\":7,\"tt_tag\":\"3\",\"type\":\"state\"},\"9\":{\"Q\":0.0,\"tag\":\"false\",\"children_ids\":[4],\"N\":3,\"id\":9,\"tt_tag\":\"false\",\"type\":\"action\"},\"10\":{\"tag\":\"1\",\"children_ids\":[11,12],\"N\":4751,\"id\":10,\"tt_tag\":\"1\",\"type\":\"state\"},\"8\":{\"Q\":1.89505020274694,\"tag\":\"true\",\"children_ids\":[1,4],\"N\":25583,\"id\":8,\"tt_tag\":\"true\",\"type\":\"action\"},\"6\":{\"Q\":0.0,\"tag\":\"false\",\"children_ids\":[7,10],\"N\":10,\"id\":6,\"tt_tag\":\"false\",\"type\":\"action\"},\"4\":{\"tag\":\"2\",\"children_ids\":[5,6],\"N\":11060,\"id\":4,\"tt_tag\":\"2\",\"type\":\"state\"},\"3\":{\"Q\":1.75318675,\"tag\":\"false\",\"children_ids\":[1,7],\"N\":24,\"id\":3,\"tt_tag\":\"false\",\"type\":\"action\"},\"5\":{\"Q\":1.1301429434660615,\"tag\":\"true\",\"children_ids\":[7,10],\"N\":11050,\"id\":5,\"tt_tag\":\"true\",\"type\":\"action\"},\"12\":{\"Q\":0.3376227562941178,\"tag\":\"false\",\"children_ids\":[4,10],\"N\":68,\"id\":12,\"tt_tag\":\"false\",\"type\":\"action\"},\"1\":{\"tag\":\"4\",\"children_ids\":[2,3],\"N\":58572,\"id\":1,\"tt_tag\":\"4\",\"type\":\"state\"}};\n",
       "        var rootID = 10;\n",
       "        var div = \"treevisLKXhazll\";\n",
       "        // ************** Generate the tree diagram\t *****************\n",
       "// var margin = {top: 20, right: 120, bottom: 20, left: 120},\n",
       "var margin = {top: 20, right: 120, bottom: 80, left: 120},\n",
       "\twidth = $(\"#\"+div).width() - margin.right - margin.left,\n",
       "    height = 600 - margin.top - margin.bottom;\n",
       "    // TODO make height a parameter of TreeVisualizer\n",
       "\t\n",
       "var i = 0,\n",
       "\tduration = 750,\n",
       "\troot;\n",
       "\n",
       "if (typeof d3 === 'undefined') {\n",
       "    loadScript(\"https://d3js.org/d3.v3.js\", showTree)\n",
       "} else {\n",
       "    showTree()\n",
       "}\n",
       "\n",
       "function loadScript(url, callback)\n",
       "{\n",
       "    console.log(\"starting script load...\")\n",
       "    // Adding the script tag to the head as suggested before\n",
       "    var head = document.getElementsByTagName('head')[0];\n",
       "    var script = document.createElement('script');\n",
       "    script.type = 'text/javascript';\n",
       "    script.src = url;\n",
       "\n",
       "    // Then bind the event to the callback function.\n",
       "    // There are several events for cross browser compatibility.\n",
       "    script.onreadystatechange = callback;\n",
       "    script.onload = callback;\n",
       "\n",
       "    // Fire the loading\n",
       "    head.appendChild(script);\n",
       "}\n",
       "\n",
       "\n",
       "function showTree() {\n",
       "    var tree = d3.layout.tree()\n",
       "        .size([width, height]);\n",
       "\n",
       "    var diagonal = d3.svg.diagonal();\n",
       "        //.projection(function(d) { return [d.y, d.x]; });\n",
       "        // uncomment above to make the tree go horizontally\n",
       "\n",
       "    if (d3.select(\"#\"+div+\"_svg\").empty()) {\n",
       "        d3.select(\"#\"+div).append(\"svg\")\n",
       "            .attr(\"id\", div+\"_svg\")\n",
       "            .attr(\"width\", width + margin.right + margin.left)\n",
       "            .attr(\"height\", height + margin.top + margin.bottom)\n",
       "    }\n",
       "\n",
       "    d3.select(\"#\"+div+\"_svg\").selectAll(\"*\").remove();\n",
       "\n",
       "    var svg = d3.select(\"#\"+div+\"_svg\")\n",
       "        .append(\"g\")\n",
       "            .attr(\"transform\", \"translate(\" + margin.left + \",\" + margin.top + \")\");\n",
       "\n",
       "    // console.log(\"tree data:\");\n",
       "    // console.log(treeData[rootID]);\n",
       "    root = createDisplayNode(treeData[rootID]);\n",
       "    root.x0 = width / 2;\n",
       "    root.y0 = 0;\n",
       "\n",
       "    // find maxima and minima for \n",
       "    var maxQ = 0.0;\n",
       "    var minQ = 0.0;\n",
       "    var maxN = 0;\n",
       "    for (var id in treeData) {\n",
       "      data = treeData[id];\n",
       "      if (data.type==\"action\") {\n",
       "        if (data.Q > maxQ) {\n",
       "          maxQ = data.Q\n",
       "        } else if (data.Q < minQ) {\n",
       "          minQ = data.Q\n",
       "        }\n",
       "        if (data.N > maxN) {\n",
       "          maxN = data.N\n",
       "        }\n",
       "      }\n",
       "    }\n",
       "    // console.log(\"maxN: \" + maxN)\n",
       "\n",
       "    update(root);\n",
       "    console.log(\"tree should appear\");\n",
       "\n",
       "    function createDisplayNode(nd) {\n",
       "      var dnode = {\"dataID\":nd.id,\n",
       "                   \"children\":null,\n",
       "                   \"_children\":null};\n",
       "      if (nd.type==\"action\") {\n",
       "          dnode.Q = nd.Q;\n",
       "      }\n",
       "      return dnode;\n",
       "    }\n",
       "\n",
       "    function initializeChildren(d) {\n",
       "      // create children\n",
       "      var ndata = treeData[d.dataID];\n",
       "      d.children = [];\n",
       "      if (ndata.children_ids) {\n",
       "        for (var i = 0; i < ndata.children_ids.length; i++) {\n",
       "          var id = ndata.children_ids[i];\n",
       "          if (!treeData[id]) {\n",
       "            alert(\"bad node id:\"+id+\" (in node \"+d.dataID+\")\")\n",
       "          } else {\n",
       "              d.children.push(createDisplayNode(treeData[id]));\n",
       "          }\n",
       "        }\n",
       "      }\n",
       "    }\n",
       "\n",
       "    function tooltip(d) {\n",
       "        var data = treeData[d.dataID]\n",
       "        var tt = data.tt_tag + \"\\n\" +\n",
       "        \"id: \" + data.id + \"\\n\" +\n",
       "        \"N: \" + data.N;\n",
       "        if (data.type==\"action\") {\n",
       "            tt += \"\\nQ: \" + data.Q;\n",
       "        }\n",
       "        return tt;\n",
       "    }\n",
       "    /*\n",
       "    function collapse(d) {\n",
       "        if (\"children\" in d && d.children) {\n",
       "            d._children = d.children;\n",
       "            d._children.forEach(collapse);\n",
       "            d.children = null;\n",
       "        }\n",
       "    }\n",
       "    */\n",
       "\n",
       "    function update(source) {\n",
       "\n",
       "      // Compute the new tree layout.\n",
       "      var nodes = tree.nodes(root).reverse(),\n",
       "          links = tree.links(nodes);\n",
       "\n",
       "      // Normalize for fixed-depth.\n",
       "      // nodes.forEach(function(d) { d.y = d.depth * 180; });\n",
       "\n",
       "      /*\n",
       "      var newHeight = height;\n",
       "      nodes.forEach(function(d) { if (d.y > newHeight) {newHeight = d.y;} });\n",
       "      svg.attr(\"height\", height + margin.top + margin.bottom);\n",
       "      */\n",
       "\n",
       "      // Update the nodes…\n",
       "      var node = svg.selectAll(\"g.node\")\n",
       "          .data(nodes, function(d) { return d.id || (d.id = ++i); });\n",
       "\n",
       "      // Enter any new nodes at the parent's previous position.\n",
       "      var nodeEnter = node.enter().append(\"g\")\n",
       "          .attr(\"class\", \"node\")\n",
       "          .attr(\"transform\", function(d) { return \"translate(\" + source.x0 + \",\" + source.y0 + \")\"; })\n",
       "          .on(\"click\", click);\n",
       "\n",
       "      nodeEnter.append(\"circle\")\n",
       "          .attr(\"r\", 1e-6)\n",
       "          .style(\"fill\", function(d) { return d._children ? \"lightsteelblue\" : \"#fff\"; });\n",
       "\n",
       "      /*\n",
       "      nodeEnter.append(\"text\")\n",
       "          .attr(\"x\", function(d) { return d.children || d._children ? -13 : 13; })\n",
       "          .attr(\"dy\", \".35em\")\n",
       "          .attr(\"text-anchor\", function(d) { return d.children || d._children ? \"end\" : \"start\"; })\n",
       "          .text(function(d) { return d.tag; })\n",
       "          .style(\"fill-opacity\", 1e-6);\n",
       "          */\n",
       "\n",
       "      /*\n",
       "      nodeEnter.append(\"text\")\n",
       "          .attr(\"y\", 25)\n",
       "          .attr(\"text-anchor\", \"middle\")\n",
       "          .text(function(d) { return d.tag + \" N: \" + d.N + (d.type==\"action\"? \" Q: \" + d.Q.toPrecision(4):\"\"); })\n",
       "          .style(\"fill-opacity\", 1e-6);\n",
       "          */\n",
       "      var tbox = nodeEnter.append(\"text\")\n",
       "          .attr(\"y\", 25)\n",
       "          .attr(\"text-anchor\", \"middle\")\n",
       "          .style(\"fill-opacity\", 1e-6);\n",
       "\n",
       "      tbox.append(\"tspan\")\n",
       "          .text( function(d) { return treeData[d.dataID].tag; } );\n",
       "\n",
       "      tbox.append(\"tspan\")\n",
       "          .attr(\"dy\",\"1.2em\")\n",
       "          .attr(\"x\",0)\n",
       "          .text( function(d) {return \"N:\" + treeData[d.dataID].N;} );\n",
       "\n",
       "      tbox.append(\"tspan\")\n",
       "          .attr(\"dy\",\"1.2em\")\n",
       "          .attr(\"x\",0)\n",
       "          .text( function(d) { if (treeData[d.dataID].type==\"action\") {return \" Q:\" + treeData[d.dataID].Q.toPrecision(4);}});\n",
       "\n",
       "      // tooltip\n",
       "      nodeEnter.append(\"title\").text(tooltip)\n",
       "\n",
       "\n",
       "      // Transition nodes to their new position.\n",
       "      var nodeUpdate = node.transition()\n",
       "          .duration(duration)\n",
       "          .attr(\"transform\", function(d) { return \"translate(\" + d.x + \",\" + d.y + \")\"; });\n",
       "\n",
       "      nodeUpdate.select(\"circle\")\n",
       "          .attr(\"r\", 10)\n",
       "          .style(\"fill\", function(d) { return d._children ? \"lightsteelblue\" : \"#fff\"; });\n",
       "\n",
       "      nodeUpdate.select(\"text\")\n",
       "          .style(\"fill-opacity\", 1);\n",
       "\n",
       "      // Transition exiting nodes to the parent's new position.\n",
       "      var nodeExit = node.exit().transition()\n",
       "          .duration(duration)\n",
       "          .attr(\"transform\", function(d) { return \"translate(\" + source.x + \",\" + source.y + \")\"; })\n",
       "          .remove();\n",
       "\n",
       "      nodeExit.select(\"circle\")\n",
       "          .attr(\"r\", 1e-6);\n",
       "\n",
       "      nodeExit.select(\"text\")\n",
       "          .style(\"fill-opacity\", 1e-6);\n",
       "\n",
       "      // Update the links…\n",
       "      var link = svg.selectAll(\"path.link\")\n",
       "          .data(links, function(d) { return d.target.id; });\n",
       "\n",
       "      // Enter any new links at the parent's previous position.\n",
       "      // XXX link width should be based on transition data, not node data\n",
       "      link.enter().insert(\"path\", \"g\")\n",
       "          .attr(\"class\", \"link\")\n",
       "          .style(\"stroke-width\", function(d) {\n",
       "              return 10.0*Math.log(treeData[d.target.dataID].N+2)/Math.log(maxN) + \"px\";})\n",
       "          .attr(\"d\", function(d) {\n",
       "            var o = {x: source.x0, y: source.y0};\n",
       "            return diagonal({source: o, target: o});\n",
       "          });\n",
       "\n",
       "      // Transition links to their new position.\n",
       "      link.transition()\n",
       "          .duration(duration)\n",
       "          .attr(\"d\", diagonal);\n",
       "\n",
       "      // Transition exiting nodes to the parent's new position.\n",
       "      link.exit().transition()\n",
       "          .duration(duration)\n",
       "          .attr(\"d\", function(d) {\n",
       "            var o = {x: source.x, y: source.y};\n",
       "            return diagonal({source: o, target: o});\n",
       "          })\n",
       "          .remove();\n",
       "\n",
       "      // Stash the old positions for transition.\n",
       "      nodes.forEach(function(d) {\n",
       "        d.x0 = d.x;\n",
       "        d.y0 = d.y;\n",
       "      });\n",
       "    }\n",
       "\n",
       "    // Toggle children on click.\n",
       "    function click(d) {\n",
       "      // console.log(\"clicked\");\n",
       "      if (d.children) {\n",
       "        d._children = d.children;\n",
       "        d.children = null;\n",
       "      } else if (d._children) {\n",
       "        d.children = d._children;\n",
       "        d._children = null;\n",
       "      } else {\n",
       "        initializeChildren(d);\n",
       "      }\n",
       "      update(d);\n",
       "    }\n",
       "\n",
       "}\n",
       "\n",
       "        })();\n",
       "    </script>\n",
       "    </div>\n",
       "\n"
      ],
      "text/plain": [
       "MCTS.TreeVisualizer{MCTS.MCTSPolicy{Int64,Bool}}(MCTS.MCTSPolicy{Int64,Bool}(MCTS.MCTSSolver(100,10,1.0,MersenneTwister(UInt32[0x00000000],Base.dSFMT.DSFMT_state(Int32[-837992505,1073430652,653755050,1073432280,-881398583,1072864555,740330250,1073725942,99456662,1073545709  …  -131277659,1072883343,-426838800,1072810381,-908659251,-459045743,-359578457,570071932,382,0]),[1.70324,1.7048,1.16337,1.98485,1.81297,1.09254,1.26,1.92402,1.13971,1.77571  …  1.9399,1.48986,1.14969,1.99687,1.80173,1.96197,1.8768,1.35384,1.18129,1.11171],329),POMDPToolbox.RandomSolver(MersenneTwister(UInt32[0x00000000],Base.dSFMT.DSFMT_state(Int32[-837992505,1073430652,653755050,1073432280,-881398583,1072864555,740330250,1073725942,99456662,1073545709  …  -131277659,1072883343,-426838800,1072810381,-908659251,-459045743,-359578457,570071932,382,0]),[1.70324,1.7048,1.16337,1.98485,1.81297,1.09254,1.26,1.92402,1.13971,1.77571  …  1.9399,1.48986,1.14969,1.99687,1.80173,1.96197,1.8768,1.35384,1.18129,1.11171],329)),true),ChainMDP(4,0.7,0.9),POMDPToolbox.RandomPolicy(MersenneTwister(UInt32[0x00000000],Base.dSFMT.DSFMT_state(Int32[-837992505,1073430652,653755050,1073432280,-881398583,1072864555,740330250,1073725942,99456662,1073545709  …  -131277659,1072883343,-426838800,1072810381,-908659251,-459045743,-359578457,570071932,382,0]),[1.70324,1.7048,1.16337,1.98485,1.81297,1.09254,1.26,1.92402,1.13971,1.77571  …  1.9399,1.48986,1.14969,1.99687,1.80173,1.96197,1.8768,1.35384,1.18129,1.11171],329),ChainMDP(4,0.7,0.9),POMDPToolbox.VoidUpdater(),(true,false)),Dict(4=>MCTS.StateNode{Bool}(58572,MCTS.StateActionNode{Bool}[MCTS.StateActionNode{Bool}(true,58548,3.05435,Set(Any[4,3])),MCTS.StateActionNode{Bool}(false,24,1.75319,Set(Any[4,3]))]),2=>MCTS.StateNode{Bool}(11060,MCTS.StateActionNode{Bool}[MCTS.StateActionNode{Bool}(true,11050,1.13014,Set(Any[3,1])),MCTS.StateActionNode{Bool}(false,10,0.0,Set(Any[3,1]))]),3=>MCTS.StateNode{Bool}(25586,MCTS.StateActionNode{Bool}[MCTS.StateActionNode{Bool}(true,25583,1.89505,Set(Any[4,2])),MCTS.StateActionNode{Bool}(false,3,0.0,Set(Any[2]))]),1=>MCTS.StateNode{Bool}(4751,MCTS.StateActionNode{Bool}[MCTS.StateActionNode{Bool}(true,4683,0.705547,Set(Any[2,1])),MCTS.StateActionNode{Bool}(false,68,0.337623,Set(Any[2,1]))])),POMDPToolbox.RolloutSimulator(MersenneTwister(UInt32[0x00000000],Base.dSFMT.DSFMT_state(Int32[-837992505,1073430652,653755050,1073432280,-881398583,1072864555,740330250,1073725942,99456662,1073545709  …  -131277659,1072883343,-426838800,1072810381,-908659251,-459045743,-359578457,570071932,382,0]),[1.70324,1.7048,1.16337,1.98485,1.81297,1.09254,1.26,1.92402,1.13971,1.77571  …  1.9399,1.48986,1.14969,1.99687,1.80173,1.96197,1.8768,1.35384,1.18129,1.11171],329),Nullable{Any}(),Nullable{Float64}(),Nullable{Int64}(4))),1)"
      ]
     },
     "execution_count": 19,
     "metadata": {},
     "output_type": "execute_result"
    }
   ],
   "source": [
    "TreeVisualizer(mcts_pol, 1)"
   ]
  },
  {
   "cell_type": "code",
   "execution_count": 20,
   "metadata": {
    "collapsed": false
   },
   "outputs": [
    {
     "name": "stdout",
     "output_type": "stream",
     "text": [
      "Package already installed\n"
     ]
    },
    {
     "name": "stderr",
     "output_type": "stream",
     "text": [
      "INFO: Cloning DiscreteValueIteration from https://github.com/JuliaPOMDP/DiscreteValueIteration.jl\n"
     ]
    }
   ],
   "source": [
    "POMDPs.add(\"DiscreteValueIteration\")"
   ]
  },
  {
   "cell_type": "code",
   "execution_count": 21,
   "metadata": {
    "collapsed": true
   },
   "outputs": [],
   "source": [
    "using DiscreteValueIteration"
   ]
  },
  {
   "cell_type": "code",
   "execution_count": 22,
   "metadata": {
    "collapsed": false
   },
   "outputs": [
    {
     "data": {
      "text/plain": [
       "states (generic function with 6 methods)"
      ]
     },
     "execution_count": 22,
     "metadata": {},
     "output_type": "execute_result"
    }
   ],
   "source": [
    "n_states(mdp::ChainMDP) = mdp.len\n",
    "states(mdp::ChainMDP) = 1:mdp.len"
   ]
  },
  {
   "cell_type": "code",
   "execution_count": 23,
   "metadata": {
    "collapsed": false
   },
   "outputs": [
    {
     "data": {
      "text/plain": [
       "2.405575564240754"
      ]
     },
     "execution_count": 23,
     "metadata": {},
     "output_type": "execute_result"
    }
   ],
   "source": [
    "solver = ValueIterationSolver()\n",
    "vi_policy = solve(solver, mdp)\n",
    "simulate(rec, mdp, vi_policy, 1)"
   ]
  },
  {
   "cell_type": "code",
   "execution_count": 23,
   "metadata": {
    "collapsed": false
   },
   "outputs": [
    {
     "name": "stdout",
     "output_type": "stream",
     "text": [
      "# The solver type \n",
      "type ValueIterationSolver <: Solver\n",
      "    max_iterations::Int64 # max number of iterations \n",
      "    belres::Float64 # the Bellman Residual\n",
      "end\n",
      "# Default constructor\n",
      "function ValueIterationSolver(;max_iterations::Int64=100, belres::Float64=1e-3)\n",
      "    return ValueIterationSolver(max_iterations, belres)\n",
      "end\n",
      "\n",
      "# The policy type\n",
      "type ValueIterationPolicy <: Policy\n",
      "    qmat::Matrix{Float64} # Q matrix stroign Q(s,a) values\n",
      "    util::Vector{Float64} # The value function V(s)\n",
      "    policy::Vector{Int64} # Policy array, maps state index to action index\n",
      "    action_map::Vector{Any} # Maps the action index to the concrete action type\n",
      "    include_Q::Bool # Flag for including the Q-matrix\n",
      "    mdp::Union{MDP,POMDP} # uses the model for indexing in the action function\n",
      "    # constructor with an optinal initial value function argument\n",
      "    function ValueIterationPolicy(mdp::Union{MDP,POMDP}; \n",
      "                                  utility::Vector{Float64}=Array(Float64,0),\n",
      "                                  include_Q::Bool=true)\n",
      "        ns = n_states(mdp)\n",
      "        na = n_actions(mdp)\n",
      "        self = new()\n",
      "        if !isempty(utility)\n",
      "            @assert size(utilty) == ns \"Input utility dimension mismatch\"\n",
      "            self.util = utility\n",
      "        else\n",
      "            self.util = zeros(ns)\n",
      "        end\n",
      "        am = Any[]\n",
      "        space = actions(mdp)\n",
      "        for a in iterator(space)\n",
      "            push!(am, a)\n",
      "        end\n",
      "        self.action_map = am\n",
      "        self.policy = zeros(Int64,ns)\n",
      "        include_Q ? self.qmat = zeros(ns,na) : self.qmat = zeros(0,0)\n",
      "        self.include_Q = include_Q\n",
      "        self.mdp = mdp\n",
      "        return self\n",
      "    end\n",
      "    # constructor for solved q, util and policy\n",
      "    function ValueIterationPolicy(mdp::Union{MDP,POMDP}, q::Matrix{Float64}, util::Vector{Float64}, policy::Vector{Int64})\n",
      "        self = new()\n",
      "        self.qmat = q\n",
      "        self.util = util\n",
      "        self.policy = policy\n",
      "        am = Any[]\n",
      "        space = actions(mdp)\n",
      "        for a in iterator(space)\n",
      "            push!(am, a)\n",
      "        end\n",
      "        self.action_map = am\n",
      "        self.include_Q = true\n",
      "        self.mdp = mdp\n",
      "        return self\n",
      "    end\n",
      "    # constructor for defualt Q-matrix\n",
      "    function ValueIterationPolicy(mdp::Union{MDP,POMDP}, q::Matrix{Float64})\n",
      "        (ns, na) = size(q)\n",
      "        p = zeros(ns)\n",
      "        u = zeros(ns)\n",
      "        for i = 1:ns\n",
      "            p[i] = indmax(q[i,:])\n",
      "            u[i] = maximum(q[i,:])\n",
      "        end\n",
      "        am = Any[]\n",
      "        space = actions(mdp)\n",
      "        for a in iterator(space)\n",
      "            push!(am, a)\n",
      "        end\n",
      "        self = new()\n",
      "        self.qmat = q\n",
      "        self.util = u\n",
      "        self.policy = p\n",
      "        self.action_map = am\n",
      "        self.include_Q = true\n",
      "        self.action_map = am\n",
      "        self.mdp = mdp\n",
      "        return self\n",
      "    end\n",
      "end\n",
      "\n",
      "# returns a default value iteration policy\n",
      "function create_policy(solver::ValueIterationSolver, mdp::Union{MDP,POMDP})\n",
      "    return ValueIterationPolicy(mdp)\n",
      "end\n",
      "\n",
      "# returns the fields of the policy type\n",
      "function locals(p::ValueIterationPolicy)\n",
      "    return (p.qmat,p.util,p.policy,p.action_map)\n",
      "end\n",
      "\n",
      "#####################################################################\n",
      "# Solve runs the value iteration algorithm.\n",
      "# The policy input argument is either provided by the user or \n",
      "# initialized during the function call.\n",
      "# Verbose is a flag that triggers text output to the command line\n",
      "# Example code for running the function:\n",
      "# mdp = GridWorld(10, 10) # initialize a 10x10 grid world MDP (user written code)\n",
      "# solver = ValueIterationSolver(max_iterations=40, belres=1e-3)\n",
      "# policy = ValueIterationPolicy(mdp)\n",
      "# solve(solver, mdp, policy, verbose=true) \n",
      "#####################################################################\n",
      "function solve(solver::ValueIterationSolver, mdp::Union{MDP,POMDP}, policy=create_policy(solver, mdp); verbose::Bool=false)\n",
      "\n",
      "    # solver parameters\n",
      "    max_iterations = solver.max_iterations\n",
      "    belres = solver.belres\n",
      "    discount_factor = discount(mdp)\n",
      "\n",
      "    # intialize the utility and Q-matrix\n",
      "    util = policy.util\n",
      "    qmat = policy.qmat\n",
      "    include_Q = policy.include_Q\n",
      "    pol = policy.policy \n",
      "\n",
      "    # pre-allocate the transtion distirbution and the interpolants\n",
      "    dist = create_transition_distribution(mdp)\n",
      "\n",
      "    # initalize space\n",
      "    sspace = states(mdp)\n",
      "    aspace = actions(mdp)\n",
      "\n",
      "    total_time = 0.0\n",
      "    iter_time = 0.0\n",
      "\n",
      "    # main loop\n",
      "    for i = 1:max_iterations\n",
      "        residual = 0.0\n",
      "        tic()\n",
      "        # state loop\n",
      "        for (istate, s) in enumerate(iterator(sspace))\n",
      "            old_util = util[istate] # for residual \n",
      "            max_util = -Inf\n",
      "            # action loop\n",
      "            # util(s) = max_a( R(s,a) + discount_factor * sum(T(s'|s,a)util(s') )\n",
      "            for (iaction, a) in enumerate(iterator(aspace))\n",
      "                dist = transition(mdp, s, a, dist) # fills distribution over neighbors\n",
      "                u = 0.0\n",
      "                for sp in iterator(dist)\n",
      "                    p = pdf(dist, sp)\n",
      "                    p == 0.0 ? continue : nothing # skip if zero prob\n",
      "                    r = reward(mdp, s, a, sp)\n",
      "                    sidx = state_index(mdp, sp)\n",
      "                    u += p * (r + discount_factor * util[sidx]) \n",
      "                end\n",
      "                new_util = u \n",
      "                if new_util > max_util\n",
      "                    max_util = new_util\n",
      "                    pol[istate] = iaction\n",
      "                end\n",
      "                include_Q ? (qmat[istate, iaction] = new_util) : nothing\n",
      "            end # action\n",
      "            # update the value array\n",
      "            util[istate] = max_util \n",
      "            diff = abs(max_util - old_util)\n",
      "            diff > residual ? (residual = diff) : nothing\n",
      "        end # state\n",
      "        iter_time = toq()\n",
      "        total_time += iter_time\n",
      "        verbose ? println(\"Iteration : $i, residual: $residual, iteration run-time: $iter_time, total run-time: $total_time\") : nothing\n",
      "        residual < belres ? break : nothing\n",
      "    end # main\n",
      "    policy\n",
      "end\n",
      "\n",
      "function action{S}(policy::ValueIterationPolicy, s::S)\n",
      "    sidx = state_index(policy.mdp, s)\n",
      "    aidx = policy.policy[sidx]\n",
      "    return policy.action_map[aidx]\n",
      "end\n",
      "function value{S}(policy::ValueIterationPolicy, s::S)\n",
      "    sidx = state_index(policy.mdp, s)\n",
      "    policy.util[sidx]\n",
      "end\n",
      "\n"
     ]
    }
   ],
   "source": [
    "@less create_policy(solver, mdp)"
   ]
  },
  {
   "cell_type": "code",
   "execution_count": null,
   "metadata": {
    "collapsed": true
   },
   "outputs": [],
   "source": []
  },
  {
   "cell_type": "code",
   "execution_count": null,
   "metadata": {
    "collapsed": true
   },
   "outputs": [],
   "source": []
  },
  {
   "cell_type": "code",
   "execution_count": 21,
   "metadata": {
    "collapsed": false
   },
   "outputs": [
    {
     "name": "stdout",
     "output_type": "stream",
     "text": [
      "Package already installed\n"
     ]
    },
    {
     "name": "stderr",
     "output_type": "stream",
     "text": [
      "INFO: Cloning POMDPModels from https://github.com/JuliaPOMDP/POMDPModels.jl\n",
      "INFO: Recompiling stale cache file /home/zach/.julia/lib/v0.5/POMDPModels.ji for module POMDPModels.\n"
     ]
    }
   ],
   "source": [
    "POMDPs.add(\"POMDPModels\")\n",
    "using POMDPModels"
   ]
  },
  {
   "cell_type": "code",
   "execution_count": 22,
   "metadata": {
    "collapsed": false
   },
   "outputs": [
    {
     "data": {
      "text/plain": [
       "POMDPModels.BabyBeliefUpdater(POMDPModels.BabyPOMDP(-5.0,-10.0,0.1,0.8,0.1,0.9,[0.0]))"
      ]
     },
     "execution_count": 22,
     "metadata": {},
     "output_type": "execute_result"
    }
   ],
   "source": [
    "bp = BabyPOMDP()\n",
    "up = BabyBeliefUpdater(bp)"
   ]
  },
  {
   "cell_type": "code",
   "execution_count": 23,
   "metadata": {
    "collapsed": false
   },
   "outputs": [
    {
     "name": "stdout",
     "output_type": "stream",
     "text": [
      "Package already installed\n"
     ]
    },
    {
     "name": "stderr",
     "output_type": "stream",
     "text": [
      "INFO: Cloning SARSOP from https://github.com/JuliaPOMDP/SARSOP.jl\n",
      "INFO: Recompiling stale cache file /home/zach/.julia/lib/v0.5/LightXML.ji for module LightXML.\n"
     ]
    }
   ],
   "source": [
    "POMDPs.add(\"SARSOP\") # might take a while to compile\n",
    "using SARSOP"
   ]
  },
  {
   "cell_type": "code",
   "execution_count": 24,
   "metadata": {
    "collapsed": false
   },
   "outputs": [
    {
     "data": {
      "text/plain": [
       "SARSOP.SARSOPSolver(Dict{AbstractString,Any}())"
      ]
     },
     "execution_count": 24,
     "metadata": {},
     "output_type": "execute_result"
    }
   ],
   "source": [
    "solver = SARSOPSolver()"
   ]
  },
  {
   "cell_type": "code",
   "execution_count": 26,
   "metadata": {
    "collapsed": false,
    "scrolled": false
   },
   "outputs": [
    {
     "name": "stdout",
     "output_type": "stream",
     "text": [
      "Generating a pomdpx file: model.pomdpx\n",
      "\n",
      "Loading the model ...\n",
      "  input file   : model.pomdpx\n",
      "  loading time : 0.00s \n",
      "\n",
      "SARSOP initializing ...\n",
      "  initialization time : 0.00s\n",
      "\n",
      "-------------------------------------------------------------------------------\n",
      " Time   |#Trial |#Backup |LBound    |UBound    |Precision  |#Alphas |#Beliefs  \n",
      "-------------------------------------------------------------------------------\n",
      " 0       0       0        -47.3685   -16.0713   31.2971     2        1        \n",
      " 0       5       51       -17.9323   -16.0492   1.88318     9        6        \n",
      " 0       10      103      -16.3978   -16.2159   0.181953    2        8        \n",
      " 0       14      151      -16.3124   -16.277    0.0353847   2        13       \n",
      " 0       18      207      -16.3058   -16.2969   0.00887227  2        16       \n",
      " 0       21      250      -16.3055   -16.3022   0.00329006  7        16       \n",
      " 0       25      305      -16.3055   -16.3044   0.00111584  2        18       \n",
      " 0       26      323      -16.3055   -16.3045   0.000944675 2        18       \n",
      "-------------------------------------------------------------------------------\n",
      "\n",
      "SARSOP finishing ...\n",
      "  target precision reached\n",
      "  target precision  : 0.001000\n",
      "  precision reached : 0.000945 \n",
      "\n",
      "-------------------------------------------------------------------------------\n",
      " Time   |#Trial |#Backup |LBound    |UBound    |Precision  |#Alphas |#Beliefs  \n",
      "-------------------------------------------------------------------------------\n",
      " 0       26      323      -16.3055   -16.3045   0.000944675 2        18       \n",
      "-------------------------------------------------------------------------------\n",
      "\n",
      "Writing out policy ...\n",
      "  output file : out.policy\n",
      "\n"
     ]
    },
    {
     "data": {
      "text/plain": [
       "SARSOP.POMDPPolicy(\"out.policy\",POMDPXFiles.POMDPAlphas([-29.6749 -38.2512; -19.6749 -16.3055],[0,1]),POMDPModels.BabyPOMDP(-5.0,-10.0,0.1,0.8,0.1,0.9,[0.0]),Any[true,false])"
      ]
     },
     "execution_count": 26,
     "metadata": {},
     "output_type": "execute_result"
    }
   ],
   "source": [
    "p = solve(solver, bp)"
   ]
  },
  {
   "cell_type": "code",
   "execution_count": 27,
   "metadata": {
    "collapsed": false,
    "scrolled": true
   },
   "outputs": [
    {
     "data": {
      "text/plain": [
       "-15.13561060444135"
      ]
     },
     "execution_count": 27,
     "metadata": {},
     "output_type": "execute_result"
    }
   ],
   "source": [
    "simulate(rec, bp, p, up, BoolDistribution(0.0))"
   ]
  },
  {
   "cell_type": "code",
   "execution_count": 28,
   "metadata": {
    "collapsed": false
   },
   "outputs": [
    {
     "name": "stdout",
     "output_type": "stream",
     "text": [
      "0.00 hungry belief => don't feed\n",
      "0.02 hungry belief => don't feed\n",
      "0.03 hungry belief => don't feed\n",
      "0.03 hungry belief => don't feed\n",
      "0.03 hungry belief => don't feed\n",
      "0.54 hungry belief => feed\n",
      "0.00 hungry belief => don't feed\n",
      "0.02 hungry belief => don't feed\n",
      "0.03 hungry belief => don't feed\n",
      "0.03 hungry belief => don't feed\n",
      "0.03 hungry belief => don't feed\n",
      "0.03 hungry belief => don't feed\n",
      "0.03 hungry belief => don't feed\n",
      "0.03 hungry belief => don't feed\n",
      "0.54 hungry belief => feed\n",
      "0.00 hungry belief => don't feed\n",
      "0.02 hungry belief => don't feed\n",
      "0.03 hungry belief => don't feed\n",
      "0.54 hungry belief => feed\n",
      "0.00 hungry belief => don't feed\n",
      "0.02 hungry belief => don't feed\n",
      "0.03 hungry belief => don't feed\n",
      "0.03 hungry belief => don't feed\n",
      "0.54 hungry belief => feed\n",
      "0.00 hungry belief => don't feed\n",
      "0.47 hungry belief => feed\n",
      "0.00 hungry belief => don't feed\n",
      "0.02 hungry belief => don't feed\n",
      "0.53 hungry belief => feed\n",
      "0.00 hungry belief => don't feed\n",
      "0.02 hungry belief => don't feed\n",
      "0.03 hungry belief => don't feed\n",
      "0.03 hungry belief => don't feed\n",
      "0.03 hungry belief => don't feed\n",
      "0.03 hungry belief => don't feed\n",
      "0.03 hungry belief => don't feed\n",
      "0.03 hungry belief => don't feed\n",
      "0.03 hungry belief => don't feed\n",
      "0.03 hungry belief => don't feed\n",
      "0.03 hungry belief => don't feed\n",
      "0.54 hungry belief => feed\n",
      "0.00 hungry belief => don't feed\n",
      "0.02 hungry belief => don't feed\n",
      "0.03 hungry belief => don't feed\n",
      "0.03 hungry belief => don't feed\n",
      "0.03 hungry belief => don't feed\n",
      "0.03 hungry belief => don't feed\n",
      "0.03 hungry belief => don't feed\n",
      "0.03 hungry belief => don't feed\n",
      "0.54 hungry belief => feed\n",
      "0.00 hungry belief => don't feed\n",
      "0.47 hungry belief => feed\n",
      "0.00 hungry belief => don't feed\n",
      "0.47 hungry belief => feed\n",
      "0.00 hungry belief => don't feed\n",
      "0.02 hungry belief => don't feed\n",
      "0.03 hungry belief => don't feed\n",
      "0.03 hungry belief => don't feed\n",
      "0.03 hungry belief => don't feed\n",
      "0.03 hungry belief => don't feed\n",
      "0.03 hungry belief => don't feed\n",
      "0.03 hungry belief => don't feed\n",
      "0.54 hungry belief => feed\n",
      "0.00 hungry belief => don't feed\n",
      "0.02 hungry belief => don't feed\n",
      "0.53 hungry belief => feed\n",
      "0.00 hungry belief => don't feed\n",
      "0.02 hungry belief => don't feed\n",
      "0.03 hungry belief => don't feed\n",
      "0.03 hungry belief => don't feed\n",
      "0.03 hungry belief => don't feed\n",
      "0.03 hungry belief => don't feed\n",
      "0.54 hungry belief => feed\n",
      "0.00 hungry belief => don't feed\n",
      "0.02 hungry belief => don't feed\n",
      "0.03 hungry belief => don't feed\n",
      "0.03 hungry belief => don't feed\n",
      "0.03 hungry belief => don't feed\n",
      "0.03 hungry belief => don't feed\n",
      "0.54 hungry belief => feed\n",
      "0.00 hungry belief => don't feed\n",
      "0.02 hungry belief => don't feed\n",
      "0.53 hungry belief => feed\n",
      "0.00 hungry belief => don't feed\n",
      "0.02 hungry belief => don't feed\n",
      "0.03 hungry belief => don't feed\n",
      "0.03 hungry belief => don't feed\n",
      "0.03 hungry belief => don't feed\n",
      "0.54 hungry belief => feed\n",
      "0.00 hungry belief => don't feed\n",
      "0.02 hungry belief => don't feed\n",
      "0.53 hungry belief => feed\n",
      "0.00 hungry belief => don't feed\n",
      "0.02 hungry belief => don't feed\n",
      "0.03 hungry belief => don't feed\n",
      "0.03 hungry belief => don't feed\n",
      "0.54 hungry belief => feed\n",
      "0.00 hungry belief => don't feed\n",
      "0.02 hungry belief => don't feed\n",
      "0.03 hungry belief => don't feed\n"
     ]
    }
   ],
   "source": [
    "for i in 1:length(rec.action_hist)\n",
    "    @printf(\"%3.2f hungry belief => %s\\n\",\n",
    "            rec.belief_hist[i].p,\n",
    "            rec.action_hist[i] ? \"feed\":\"don't feed\")\n",
    "end"
   ]
  },
  {
   "cell_type": "code",
   "execution_count": null,
   "metadata": {
    "collapsed": true
   },
   "outputs": [],
   "source": []
  }
 ],
 "metadata": {
  "anaconda-cloud": {},
  "kernelspec": {
   "display_name": "Julia 0.5.0",
   "language": "julia",
   "name": "julia-0.5"
  },
  "language_info": {
   "file_extension": ".jl",
   "mimetype": "application/julia",
   "name": "julia",
   "version": "0.5.0"
  }
 },
 "nbformat": 4,
 "nbformat_minor": 1
}
